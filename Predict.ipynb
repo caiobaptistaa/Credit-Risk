{
  "nbformat": 4,
  "nbformat_minor": 0,
  "metadata": {
    "colab": {
      "name": "Predict.ipynb",
      "provenance": [],
      "authorship_tag": "ABX9TyNuiebjH7d+nAg25SO3jNst",
      "include_colab_link": true
    },
    "kernelspec": {
      "name": "python3",
      "display_name": "Python 3"
    },
    "language_info": {
      "name": "python"
    }
  },
  "cells": [
    {
      "cell_type": "markdown",
      "metadata": {
        "id": "view-in-github",
        "colab_type": "text"
      },
      "source": [
        "<a href=\"https://colab.research.google.com/github/caiobaptistaa/Credit-Risk/blob/main/Predict.ipynb\" target=\"_parent\"><img src=\"https://colab.research.google.com/assets/colab-badge.svg\" alt=\"Open In Colab\"/></a>"
      ]
    },
    {
      "cell_type": "code",
      "execution_count": 1,
      "metadata": {
        "id": "iPO4iQmnJ80M"
      },
      "outputs": [],
      "source": [
        "# data manipulation and plotting\n",
        "import pandas as pd\n",
        "import numpy as np\n",
        "import matplotlib.pyplot as plt\n",
        "\n",
        "from sklearn.metrics import accuracy_score\n",
        "from sklearn.metrics import roc_auc_score\n",
        "from sklearn.metrics import log_loss\n",
        "from sklearn.metrics import f1_score\n",
        "\n",
        "import joblib\n",
        "\n",
        "from sklearn.ensemble import GradientBoostingClassifier\n",
        "\n",
        "import string\n",
        "\n",
        "# from Scikit-learn\n",
        "from sklearn.model_selection import train_test_split\n",
        "from sklearn.preprocessing import MinMaxScaler, LabelEncoder\n",
        "from sklearn.pipeline import Pipeline\n",
        "from sklearn.decomposition import PCA\n",
        "\n",
        "# from feature-engine\n",
        "from feature_engine.imputation import (\n",
        "    MeanMedianImputer,\n",
        "    CategoricalImputer,\n",
        ")\n",
        "\n",
        "from feature_engine.encoding import (\n",
        "    RareLabelEncoder,\n",
        "    OrdinalEncoder,\n",
        "    OneHotEncoder,\n",
        "    CountFrequencyEncoder,\n",
        ")\n",
        "\n",
        "from feature_engine.outliers import (\n",
        "    ArbitraryOutlierCapper,\n",
        "\n",
        ")\n",
        "\n",
        "from feature_engine.transformation import (\n",
        "        YeoJohnsonTransformer,\n",
        ")\n",
        "\n",
        "\n",
        "from feature_engine.selection import DropFeatures\n",
        "from feature_engine.wrappers import SklearnTransformerWrapper\n",
        "\n",
        "from sklearn.compose import ColumnTransformer\n",
        "\n",
        "# to visualise al the columns in the dataframe\n",
        "pd.pandas.set_option('display.max_columns', None)"
      ]
    },
    {
      "cell_type": "code",
      "source": [
        "from google.colab import drive\n",
        "drive.mount('/content/drive')\n",
        "\n",
        "data = pd.read_csv('/content/drive/MyDrive/SBAnational.csv', low_memory= False)"
      ],
      "metadata": {
        "colab": {
          "base_uri": "https://localhost:8080/"
        },
        "id": "xFTiMxPXRWz0",
        "outputId": "2533bbcf-a81f-4a4d-aedc-8913dacfbed5"
      },
      "execution_count": 2,
      "outputs": [
        {
          "output_type": "stream",
          "name": "stdout",
          "text": [
            "Drive already mounted at /content/drive; to attempt to forcibly remount, call drive.mount(\"/content/drive\", force_remount=True).\n"
          ]
        }
      ]
    },
    {
      "cell_type": "code",
      "source": [
        "X_train, X_rest, y_train, y_rest = train_test_split(\n",
        "    data.drop(['LoanNr_ChkDgt', 'Name', 'State', 'BankState',\n",
        "               'ApprovalDate', 'FranchiseCode', 'ChgOffDate',\n",
        "               'DisbursementDate', 'BalanceGross', 'ChgOffPrinGr',\n",
        "               'MIS_Status'\n",
        "              ], axis=1), # predictive variables\n",
        "    data[\"MIS_Status\"], # target\n",
        "    test_size=0.3, # portion of dataset to allocate to test set\n",
        "    random_state=0, # we are setting the seed here\n",
        ")\n",
        "\n",
        "X_val, X_test, y_val, y_test = train_test_split(X_rest, y_rest, test_size = 0.5, random_state = 0)\n"
      ],
      "metadata": {
        "id": "OcVVHcK0Zylq"
      },
      "execution_count": 3,
      "outputs": []
    },
    {
      "cell_type": "code",
      "source": [
        "target = ['MIS_Status']\n",
        "\n",
        "features = [\"City\", \"Zip\", \"Bank\", \"NAICS\", \"ApprovalFY\",\n",
        "            \"Term\", \"NoEmp\", \"NewExist\", \"CreateJob\",  \"RetainedJob\",\n",
        "            \"UrbanRural\", \"RevLineCr\", \"LowDoc\", \"DisbursementGross\",\n",
        "           \"GrAppv\", \"SBA_Appv\"]\n",
        "\n",
        "\n",
        "cat_vars = ['City', 'Zip', 'Bank', 'NAICS']\n",
        "\n",
        "cat_vars_with_na = [\"Bank\", \"City\"]\n",
        "\n",
        "binary_vars = ['NewExist', 'UrbanRural', 'RevLineCr', 'LowDoc']\n",
        "\n",
        "binary_miss = [\"RevLineCr\"]\n",
        "\n",
        "binary_freq = [\"NewExist\", \"LowDoc\"]\n",
        "\n",
        "num_vars = [\"DisbursementGross\", \"GrAppv\", \"SBA_Appv\"]\n",
        "\n",
        "disc_vars = [\"NoEmp\", \"CreateJob\", \"RetainedJob\", \"Term\"]\n",
        "\n",
        "temp_vars = [\"ApprovalFY\"]"
      ],
      "metadata": {
        "id": "zMzoHRcYdrr7"
      },
      "execution_count": 4,
      "outputs": []
    },
    {
      "cell_type": "markdown",
      "source": [
        "#### Pipe for Target"
      ],
      "metadata": {
        "id": "P4U2oDuddJ3q"
      }
    },
    {
      "cell_type": "code",
      "source": [
        "y_test = pd.DataFrame(y_test)"
      ],
      "metadata": {
        "id": "H6r7HyfOenJR"
      },
      "execution_count": 5,
      "outputs": []
    },
    {
      "cell_type": "code",
      "source": [
        "sba_pipe_y = Pipeline([\n",
        "    \n",
        "    ###################### Missings and Special Characters ######################\n",
        "    \n",
        "    # Imputation Categorical - target #\n",
        "    \n",
        "    ('frequent_imputation - target', CategoricalImputer(\n",
        "        imputation_method='frequent', variables = target)),\n",
        "    \n",
        "    # Imputation Categorical - features #\n",
        "    \n",
        "    ('Binary Imputation', OneHotEncoder(\n",
        "        variables = \"MIS_Status\", drop_last = True)),\n",
        "])"
      ],
      "metadata": {
        "id": "PQ3-zTd1c-e6"
      },
      "execution_count": 6,
      "outputs": []
    },
    {
      "cell_type": "code",
      "source": [
        "y_test = sba_pipe_y.fit_transform(y_test)"
      ],
      "metadata": {
        "id": "NYMOUU8gc-cE"
      },
      "execution_count": 7,
      "outputs": []
    },
    {
      "cell_type": "code",
      "source": [
        "y_test.isnull().sum()"
      ],
      "metadata": {
        "colab": {
          "base_uri": "https://localhost:8080/"
        },
        "id": "zTTrXbDTc-XD",
        "outputId": "9083710c-1ec5-4f6a-9821-39a1ad498f17"
      },
      "execution_count": 8,
      "outputs": [
        {
          "output_type": "execute_result",
          "data": {
            "text/plain": [
              "MIS_Status_P I F    0\n",
              "dtype: int64"
            ]
          },
          "metadata": {},
          "execution_count": 8
        }
      ]
    },
    {
      "cell_type": "code",
      "source": [
        "y_test.head()"
      ],
      "metadata": {
        "colab": {
          "base_uri": "https://localhost:8080/",
          "height": 206
        },
        "id": "RXdd__zXc-Sb",
        "outputId": "fab0216d-2ec9-4ed6-f149-2c52db8c75b1"
      },
      "execution_count": 9,
      "outputs": [
        {
          "output_type": "execute_result",
          "data": {
            "text/plain": [
              "        MIS_Status_P I F\n",
              "864967                 1\n",
              "695944                 1\n",
              "776331                 1\n",
              "208860                 1\n",
              "546687                 1"
            ],
            "text/html": [
              "\n",
              "  <div id=\"df-f84593c8-d0d3-4e52-975a-2d3470e76635\">\n",
              "    <div class=\"colab-df-container\">\n",
              "      <div>\n",
              "<style scoped>\n",
              "    .dataframe tbody tr th:only-of-type {\n",
              "        vertical-align: middle;\n",
              "    }\n",
              "\n",
              "    .dataframe tbody tr th {\n",
              "        vertical-align: top;\n",
              "    }\n",
              "\n",
              "    .dataframe thead th {\n",
              "        text-align: right;\n",
              "    }\n",
              "</style>\n",
              "<table border=\"1\" class=\"dataframe\">\n",
              "  <thead>\n",
              "    <tr style=\"text-align: right;\">\n",
              "      <th></th>\n",
              "      <th>MIS_Status_P I F</th>\n",
              "    </tr>\n",
              "  </thead>\n",
              "  <tbody>\n",
              "    <tr>\n",
              "      <th>864967</th>\n",
              "      <td>1</td>\n",
              "    </tr>\n",
              "    <tr>\n",
              "      <th>695944</th>\n",
              "      <td>1</td>\n",
              "    </tr>\n",
              "    <tr>\n",
              "      <th>776331</th>\n",
              "      <td>1</td>\n",
              "    </tr>\n",
              "    <tr>\n",
              "      <th>208860</th>\n",
              "      <td>1</td>\n",
              "    </tr>\n",
              "    <tr>\n",
              "      <th>546687</th>\n",
              "      <td>1</td>\n",
              "    </tr>\n",
              "  </tbody>\n",
              "</table>\n",
              "</div>\n",
              "      <button class=\"colab-df-convert\" onclick=\"convertToInteractive('df-f84593c8-d0d3-4e52-975a-2d3470e76635')\"\n",
              "              title=\"Convert this dataframe to an interactive table.\"\n",
              "              style=\"display:none;\">\n",
              "        \n",
              "  <svg xmlns=\"http://www.w3.org/2000/svg\" height=\"24px\"viewBox=\"0 0 24 24\"\n",
              "       width=\"24px\">\n",
              "    <path d=\"M0 0h24v24H0V0z\" fill=\"none\"/>\n",
              "    <path d=\"M18.56 5.44l.94 2.06.94-2.06 2.06-.94-2.06-.94-.94-2.06-.94 2.06-2.06.94zm-11 1L8.5 8.5l.94-2.06 2.06-.94-2.06-.94L8.5 2.5l-.94 2.06-2.06.94zm10 10l.94 2.06.94-2.06 2.06-.94-2.06-.94-.94-2.06-.94 2.06-2.06.94z\"/><path d=\"M17.41 7.96l-1.37-1.37c-.4-.4-.92-.59-1.43-.59-.52 0-1.04.2-1.43.59L10.3 9.45l-7.72 7.72c-.78.78-.78 2.05 0 2.83L4 21.41c.39.39.9.59 1.41.59.51 0 1.02-.2 1.41-.59l7.78-7.78 2.81-2.81c.8-.78.8-2.07 0-2.86zM5.41 20L4 18.59l7.72-7.72 1.47 1.35L5.41 20z\"/>\n",
              "  </svg>\n",
              "      </button>\n",
              "      \n",
              "  <style>\n",
              "    .colab-df-container {\n",
              "      display:flex;\n",
              "      flex-wrap:wrap;\n",
              "      gap: 12px;\n",
              "    }\n",
              "\n",
              "    .colab-df-convert {\n",
              "      background-color: #E8F0FE;\n",
              "      border: none;\n",
              "      border-radius: 50%;\n",
              "      cursor: pointer;\n",
              "      display: none;\n",
              "      fill: #1967D2;\n",
              "      height: 32px;\n",
              "      padding: 0 0 0 0;\n",
              "      width: 32px;\n",
              "    }\n",
              "\n",
              "    .colab-df-convert:hover {\n",
              "      background-color: #E2EBFA;\n",
              "      box-shadow: 0px 1px 2px rgba(60, 64, 67, 0.3), 0px 1px 3px 1px rgba(60, 64, 67, 0.15);\n",
              "      fill: #174EA6;\n",
              "    }\n",
              "\n",
              "    [theme=dark] .colab-df-convert {\n",
              "      background-color: #3B4455;\n",
              "      fill: #D2E3FC;\n",
              "    }\n",
              "\n",
              "    [theme=dark] .colab-df-convert:hover {\n",
              "      background-color: #434B5C;\n",
              "      box-shadow: 0px 1px 3px 1px rgba(0, 0, 0, 0.15);\n",
              "      filter: drop-shadow(0px 1px 2px rgba(0, 0, 0, 0.3));\n",
              "      fill: #FFFFFF;\n",
              "    }\n",
              "  </style>\n",
              "\n",
              "      <script>\n",
              "        const buttonEl =\n",
              "          document.querySelector('#df-f84593c8-d0d3-4e52-975a-2d3470e76635 button.colab-df-convert');\n",
              "        buttonEl.style.display =\n",
              "          google.colab.kernel.accessAllowed ? 'block' : 'none';\n",
              "\n",
              "        async function convertToInteractive(key) {\n",
              "          const element = document.querySelector('#df-f84593c8-d0d3-4e52-975a-2d3470e76635');\n",
              "          const dataTable =\n",
              "            await google.colab.kernel.invokeFunction('convertToInteractive',\n",
              "                                                     [key], {});\n",
              "          if (!dataTable) return;\n",
              "\n",
              "          const docLinkHtml = 'Like what you see? Visit the ' +\n",
              "            '<a target=\"_blank\" href=https://colab.research.google.com/notebooks/data_table.ipynb>data table notebook</a>'\n",
              "            + ' to learn more about interactive tables.';\n",
              "          element.innerHTML = '';\n",
              "          dataTable['output_type'] = 'display_data';\n",
              "          await google.colab.output.renderOutput(dataTable, element);\n",
              "          const docLink = document.createElement('div');\n",
              "          docLink.innerHTML = docLinkHtml;\n",
              "          element.appendChild(docLink);\n",
              "        }\n",
              "      </script>\n",
              "    </div>\n",
              "  </div>\n",
              "  "
            ]
          },
          "metadata": {},
          "execution_count": 9
        }
      ]
    },
    {
      "cell_type": "code",
      "source": [
        "pca = PCA()"
      ],
      "metadata": {
        "id": "m-_VYlDec-Md"
      },
      "execution_count": 10,
      "outputs": []
    },
    {
      "cell_type": "code",
      "source": [
        "X_test.head()"
      ],
      "metadata": {
        "colab": {
          "base_uri": "https://localhost:8080/",
          "height": 565
        },
        "id": "8mH_zXFARu9Q",
        "outputId": "31b6e43e-3cbf-4ad0-f385-019a5e0c4691"
      },
      "execution_count": 11,
      "outputs": [
        {
          "output_type": "execute_result",
          "data": {
            "text/plain": [
              "             City    Zip                           Bank   NAICS ApprovalFY  \\\n",
              "864967      ALVIN  77512  LOANS FROM OLD CLOSED LENDERS       0       1996   \n",
              "695944  DEER PARK  77536    WELLS FARGO BANK NATL ASSOC       0       1994   \n",
              "776331     SALINA  67401     BANK OF AMERICA NATL ASSOC  235110       1995   \n",
              "208860     JASPER  97438    WELLS FARGO BANK NATL ASSOC  445120       2007   \n",
              "546687    ORLANDO  32825               OLD FLORIDA BANK  453220       2002   \n",
              "\n",
              "        Term  NoEmp  NewExist  CreateJob  RetainedJob  UrbanRural RevLineCr  \\\n",
              "864967   180     60       1.0          0            0           0         0   \n",
              "695944   180      1       2.0          0            0           0         N   \n",
              "776331   120     18       1.0          0            0           0         N   \n",
              "208860    84     20       1.0          2           22           2         Y   \n",
              "546687    84      1       2.0          0            1           1         0   \n",
              "\n",
              "       LowDoc DisbursementGross          GrAppv      SBA_Appv  \n",
              "864967      N    $2,500,000.00   $2,500,000.00   $750,000.00   \n",
              "695944      N      $105,000.00     $105,000.00    $94,500.00   \n",
              "776331      N      $165,000.00     $165,000.00   $140,250.00   \n",
              "208860      N      $313,623.00      $85,000.00    $42,500.00   \n",
              "546687      N       $50,000.00      $50,000.00    $42,500.00   "
            ],
            "text/html": [
              "\n",
              "  <div id=\"df-bbc572c9-b32a-4c17-b9a6-c619706c62db\">\n",
              "    <div class=\"colab-df-container\">\n",
              "      <div>\n",
              "<style scoped>\n",
              "    .dataframe tbody tr th:only-of-type {\n",
              "        vertical-align: middle;\n",
              "    }\n",
              "\n",
              "    .dataframe tbody tr th {\n",
              "        vertical-align: top;\n",
              "    }\n",
              "\n",
              "    .dataframe thead th {\n",
              "        text-align: right;\n",
              "    }\n",
              "</style>\n",
              "<table border=\"1\" class=\"dataframe\">\n",
              "  <thead>\n",
              "    <tr style=\"text-align: right;\">\n",
              "      <th></th>\n",
              "      <th>City</th>\n",
              "      <th>Zip</th>\n",
              "      <th>Bank</th>\n",
              "      <th>NAICS</th>\n",
              "      <th>ApprovalFY</th>\n",
              "      <th>Term</th>\n",
              "      <th>NoEmp</th>\n",
              "      <th>NewExist</th>\n",
              "      <th>CreateJob</th>\n",
              "      <th>RetainedJob</th>\n",
              "      <th>UrbanRural</th>\n",
              "      <th>RevLineCr</th>\n",
              "      <th>LowDoc</th>\n",
              "      <th>DisbursementGross</th>\n",
              "      <th>GrAppv</th>\n",
              "      <th>SBA_Appv</th>\n",
              "    </tr>\n",
              "  </thead>\n",
              "  <tbody>\n",
              "    <tr>\n",
              "      <th>864967</th>\n",
              "      <td>ALVIN</td>\n",
              "      <td>77512</td>\n",
              "      <td>LOANS FROM OLD CLOSED LENDERS</td>\n",
              "      <td>0</td>\n",
              "      <td>1996</td>\n",
              "      <td>180</td>\n",
              "      <td>60</td>\n",
              "      <td>1.0</td>\n",
              "      <td>0</td>\n",
              "      <td>0</td>\n",
              "      <td>0</td>\n",
              "      <td>0</td>\n",
              "      <td>N</td>\n",
              "      <td>$2,500,000.00</td>\n",
              "      <td>$2,500,000.00</td>\n",
              "      <td>$750,000.00</td>\n",
              "    </tr>\n",
              "    <tr>\n",
              "      <th>695944</th>\n",
              "      <td>DEER PARK</td>\n",
              "      <td>77536</td>\n",
              "      <td>WELLS FARGO BANK NATL ASSOC</td>\n",
              "      <td>0</td>\n",
              "      <td>1994</td>\n",
              "      <td>180</td>\n",
              "      <td>1</td>\n",
              "      <td>2.0</td>\n",
              "      <td>0</td>\n",
              "      <td>0</td>\n",
              "      <td>0</td>\n",
              "      <td>N</td>\n",
              "      <td>N</td>\n",
              "      <td>$105,000.00</td>\n",
              "      <td>$105,000.00</td>\n",
              "      <td>$94,500.00</td>\n",
              "    </tr>\n",
              "    <tr>\n",
              "      <th>776331</th>\n",
              "      <td>SALINA</td>\n",
              "      <td>67401</td>\n",
              "      <td>BANK OF AMERICA NATL ASSOC</td>\n",
              "      <td>235110</td>\n",
              "      <td>1995</td>\n",
              "      <td>120</td>\n",
              "      <td>18</td>\n",
              "      <td>1.0</td>\n",
              "      <td>0</td>\n",
              "      <td>0</td>\n",
              "      <td>0</td>\n",
              "      <td>N</td>\n",
              "      <td>N</td>\n",
              "      <td>$165,000.00</td>\n",
              "      <td>$165,000.00</td>\n",
              "      <td>$140,250.00</td>\n",
              "    </tr>\n",
              "    <tr>\n",
              "      <th>208860</th>\n",
              "      <td>JASPER</td>\n",
              "      <td>97438</td>\n",
              "      <td>WELLS FARGO BANK NATL ASSOC</td>\n",
              "      <td>445120</td>\n",
              "      <td>2007</td>\n",
              "      <td>84</td>\n",
              "      <td>20</td>\n",
              "      <td>1.0</td>\n",
              "      <td>2</td>\n",
              "      <td>22</td>\n",
              "      <td>2</td>\n",
              "      <td>Y</td>\n",
              "      <td>N</td>\n",
              "      <td>$313,623.00</td>\n",
              "      <td>$85,000.00</td>\n",
              "      <td>$42,500.00</td>\n",
              "    </tr>\n",
              "    <tr>\n",
              "      <th>546687</th>\n",
              "      <td>ORLANDO</td>\n",
              "      <td>32825</td>\n",
              "      <td>OLD FLORIDA BANK</td>\n",
              "      <td>453220</td>\n",
              "      <td>2002</td>\n",
              "      <td>84</td>\n",
              "      <td>1</td>\n",
              "      <td>2.0</td>\n",
              "      <td>0</td>\n",
              "      <td>1</td>\n",
              "      <td>1</td>\n",
              "      <td>0</td>\n",
              "      <td>N</td>\n",
              "      <td>$50,000.00</td>\n",
              "      <td>$50,000.00</td>\n",
              "      <td>$42,500.00</td>\n",
              "    </tr>\n",
              "  </tbody>\n",
              "</table>\n",
              "</div>\n",
              "      <button class=\"colab-df-convert\" onclick=\"convertToInteractive('df-bbc572c9-b32a-4c17-b9a6-c619706c62db')\"\n",
              "              title=\"Convert this dataframe to an interactive table.\"\n",
              "              style=\"display:none;\">\n",
              "        \n",
              "  <svg xmlns=\"http://www.w3.org/2000/svg\" height=\"24px\"viewBox=\"0 0 24 24\"\n",
              "       width=\"24px\">\n",
              "    <path d=\"M0 0h24v24H0V0z\" fill=\"none\"/>\n",
              "    <path d=\"M18.56 5.44l.94 2.06.94-2.06 2.06-.94-2.06-.94-.94-2.06-.94 2.06-2.06.94zm-11 1L8.5 8.5l.94-2.06 2.06-.94-2.06-.94L8.5 2.5l-.94 2.06-2.06.94zm10 10l.94 2.06.94-2.06 2.06-.94-2.06-.94-.94-2.06-.94 2.06-2.06.94z\"/><path d=\"M17.41 7.96l-1.37-1.37c-.4-.4-.92-.59-1.43-.59-.52 0-1.04.2-1.43.59L10.3 9.45l-7.72 7.72c-.78.78-.78 2.05 0 2.83L4 21.41c.39.39.9.59 1.41.59.51 0 1.02-.2 1.41-.59l7.78-7.78 2.81-2.81c.8-.78.8-2.07 0-2.86zM5.41 20L4 18.59l7.72-7.72 1.47 1.35L5.41 20z\"/>\n",
              "  </svg>\n",
              "      </button>\n",
              "      \n",
              "  <style>\n",
              "    .colab-df-container {\n",
              "      display:flex;\n",
              "      flex-wrap:wrap;\n",
              "      gap: 12px;\n",
              "    }\n",
              "\n",
              "    .colab-df-convert {\n",
              "      background-color: #E8F0FE;\n",
              "      border: none;\n",
              "      border-radius: 50%;\n",
              "      cursor: pointer;\n",
              "      display: none;\n",
              "      fill: #1967D2;\n",
              "      height: 32px;\n",
              "      padding: 0 0 0 0;\n",
              "      width: 32px;\n",
              "    }\n",
              "\n",
              "    .colab-df-convert:hover {\n",
              "      background-color: #E2EBFA;\n",
              "      box-shadow: 0px 1px 2px rgba(60, 64, 67, 0.3), 0px 1px 3px 1px rgba(60, 64, 67, 0.15);\n",
              "      fill: #174EA6;\n",
              "    }\n",
              "\n",
              "    [theme=dark] .colab-df-convert {\n",
              "      background-color: #3B4455;\n",
              "      fill: #D2E3FC;\n",
              "    }\n",
              "\n",
              "    [theme=dark] .colab-df-convert:hover {\n",
              "      background-color: #434B5C;\n",
              "      box-shadow: 0px 1px 3px 1px rgba(0, 0, 0, 0.15);\n",
              "      filter: drop-shadow(0px 1px 2px rgba(0, 0, 0, 0.3));\n",
              "      fill: #FFFFFF;\n",
              "    }\n",
              "  </style>\n",
              "\n",
              "      <script>\n",
              "        const buttonEl =\n",
              "          document.querySelector('#df-bbc572c9-b32a-4c17-b9a6-c619706c62db button.colab-df-convert');\n",
              "        buttonEl.style.display =\n",
              "          google.colab.kernel.accessAllowed ? 'block' : 'none';\n",
              "\n",
              "        async function convertToInteractive(key) {\n",
              "          const element = document.querySelector('#df-bbc572c9-b32a-4c17-b9a6-c619706c62db');\n",
              "          const dataTable =\n",
              "            await google.colab.kernel.invokeFunction('convertToInteractive',\n",
              "                                                     [key], {});\n",
              "          if (!dataTable) return;\n",
              "\n",
              "          const docLinkHtml = 'Like what you see? Visit the ' +\n",
              "            '<a target=\"_blank\" href=https://colab.research.google.com/notebooks/data_table.ipynb>data table notebook</a>'\n",
              "            + ' to learn more about interactive tables.';\n",
              "          element.innerHTML = '';\n",
              "          dataTable['output_type'] = 'display_data';\n",
              "          await google.colab.output.renderOutput(dataTable, element);\n",
              "          const docLink = document.createElement('div');\n",
              "          docLink.innerHTML = docLinkHtml;\n",
              "          element.appendChild(docLink);\n",
              "        }\n",
              "      </script>\n",
              "    </div>\n",
              "  </div>\n",
              "  "
            ]
          },
          "metadata": {},
          "execution_count": 11
        }
      ]
    },
    {
      "cell_type": "markdown",
      "source": [
        "### Predict"
      ],
      "metadata": {
        "id": "gc1hogWdgz64"
      }
    },
    {
      "cell_type": "code",
      "source": [
        "sba_pipe = joblib.load('sba_pipe.pkl')"
      ],
      "metadata": {
        "id": "uKXeYfQiSeeH"
      },
      "execution_count": 13,
      "outputs": []
    },
    {
      "cell_type": "code",
      "source": [
        "y_pred = sba_pipe.predict(X_test)\n",
        "y_prob = sba_pipe.predict_proba(X_test)"
      ],
      "metadata": {
        "id": "dBjeAGaaSeP7"
      },
      "execution_count": 14,
      "outputs": []
    },
    {
      "cell_type": "code",
      "source": [
        "log_loss = log_loss(y_test, y_prob)\n",
        "\n",
        "accuracy = accuracy_score(y_test, y_pred)\n",
        "\n",
        "f1_score = f1_score(y_test, y_pred)\n",
        "\n",
        "roc_auc_score = roc_auc_score(y_test, y_pred)"
      ],
      "metadata": {
        "id": "I7YQphj6a_mn"
      },
      "execution_count": 15,
      "outputs": []
    },
    {
      "cell_type": "code",
      "source": [
        "from tabulate import tabulate\n",
        "\n",
        "tablefinish = [[\"Accuracy\", accuracy],\n",
        "               [\"Logloss\", log_loss],\n",
        "                [\"F1 test\", f1_score], \n",
        "          [\"AUC\", roc_auc_score]]\n",
        "\n",
        "head_fim = [\"Scores\"]\n",
        "\n",
        "print(tabulate(tablefinish, headers = head_fim, tablefmt = \"grid\"))"
      ],
      "metadata": {
        "colab": {
          "base_uri": "https://localhost:8080/"
        },
        "id": "yGZKTHKga_hH",
        "outputId": "6eeb2fa2-b7f3-42c0-9672-6730e8811872"
      },
      "execution_count": 16,
      "outputs": [
        {
          "output_type": "stream",
          "name": "stdout",
          "text": [
            "+----------+----------+\n",
            "|          |   Scores |\n",
            "+==========+==========+\n",
            "| Accuracy | 0.947173 |\n",
            "+----------+----------+\n",
            "| Logloss  | 0.138309 |\n",
            "+----------+----------+\n",
            "| F1 test  | 0.968183 |\n",
            "+----------+----------+\n",
            "| AUC      | 0.900755 |\n",
            "+----------+----------+\n"
          ]
        }
      ]
    }
  ]
}